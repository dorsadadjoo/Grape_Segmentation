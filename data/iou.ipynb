{
 "cells": [
  {
   "cell_type": "code",
   "execution_count": 111,
   "metadata": {},
   "outputs": [],
   "source": [
    "import cv2\n",
    "import os\n",
    "import glob\n",
    "\n",
    "img_dir = \"./label\" # Enter Directory of all images \n",
    "data_path = os.path.join(img_dir,'*g')\n",
    "files = sorted(glob.glob(data_path))\n",
    "labels = []\n",
    "for f1 in files:\n",
    "#     print(f1)\n",
    "    img = cv2.imread(f1, cv2.IMREAD_GRAYSCALE)\n",
    "    _, img = cv2.threshold(img,20,255,cv2.THRESH_BINARY)\n",
    "    labels.append(img)\n",
    "    \n",
    "img_dir = \"./predict\" # Enter Directory of all images \n",
    "data_path = os.path.join(img_dir,'*g')\n",
    "files = sorted(glob.glob(data_path))\n",
    "predicts = []\n",
    "for f1 in files:\n",
    "#     print(f1)\n",
    "    img = cv2.imread(f1, cv2.IMREAD_GRAYSCALE)\n",
    "    _, img = cv2.threshold(img,85,255,cv2.THRESH_BINARY)\n",
    "    predicts.append(img)"
   ]
  },
  {
   "cell_type": "code",
   "execution_count": 140,
   "metadata": {},
   "outputs": [
    {
     "name": "stdout",
     "output_type": "stream",
     "text": [
      "0 0.8492795131119664\n",
      "1 0.8746816097809476\n",
      "2 0.8775860328993844\n",
      "3 0.8382378854625551\n",
      "4 0.8493403181994568\n",
      "5 0.7763371150729336\n",
      "6 0.7609626759127065\n",
      "7 0.9086380298900273\n",
      "8 0.8046700773973501\n",
      "9 0.9525251223911363\n",
      "10 0.6814332247557003\n",
      "11 0.2413808523006752\n",
      "12 0.2244984259737819\n",
      "13 0.8836500117288295\n",
      "14 0.9531569027799591\n",
      "15 0.7640979147778785\n",
      "16 0.7735849056603774\n",
      "17 0.7279168095074848\n",
      "18 0.8073421014597485\n",
      "19 0.8419994639506835\n",
      "20 0.815885698808234\n",
      "21 0.7996264674493063\n",
      "22 0.6743111415368818\n",
      "23 0.8003548034934498\n",
      "24 0.8025164113785558\n",
      "25 0.5957354221061792\n",
      "26 0.6988448844884488\n",
      "27 0.8268947213211442\n",
      "28 0.7454698693636747\n",
      "29 0.7386929566012806\n"
     ]
    }
   ],
   "source": [
    "import numpy as np\n",
    "\n",
    "scores = []\n",
    "for i in range(30):\n",
    "    target = labels[i]\n",
    "    prediction = predicts[i]\n",
    "    \n",
    "    #IoU\n",
    "    intersection = np.logical_and(target, prediction)\n",
    "    union = np.logical_or(target, prediction)\n",
    "    iou_score = np.sum(intersection) / np.sum(union)\n",
    "    \n",
    "    scores.append(iou_score)\n",
    "    print(i, iou_score)"
   ]
  },
  {
   "cell_type": "code",
   "execution_count": 141,
   "metadata": {},
   "outputs": [
    {
     "data": {
      "text/plain": [
       "0.7629883789853579"
      ]
     },
     "execution_count": 141,
     "metadata": {},
     "output_type": "execute_result"
    }
   ],
   "source": [
    "np.mean(scores)"
   ]
  },
  {
   "cell_type": "code",
   "execution_count": 142,
   "metadata": {},
   "outputs": [
    {
     "data": {
      "image/png": "[encoded data removed]",
      "text/plain": [
       "<Figure size 720x360 with 1 Axes>"
      ]
     },
     "metadata": {
      "needs_background": "light"
     },
     "output_type": "display_data"
    }
   ],
   "source": [
    "# threshold,threshold_image = cv2.threshold(img,70,255,cv2.THRESH_BINARY_INV) \n",
    "import matplotlib.pyplot as plt\n",
    "\n",
    "array = cv2.cvtColor(labels[11], cv2.COLOR_BGR2RGB)\n",
    "fig, ax = plt.subplots(figsize=(10, 5))\n",
    "ax.imshow(array, cmap=pyplot.cm.binary, vmin=0, vmax=1)\n",
    "plt.show()"
   ]
  },
  {
   "cell_type": "code",
   "execution_count": 144,
   "metadata": {},
   "outputs": [
    {
     "data": {
      "image/png": "[encoded data removed]",
      "text/plain": [
       "<Figure size 720x360 with 1 Axes>"
      ]
     },
     "metadata": {
      "needs_background": "light"
     },
     "output_type": "display_data"
    }
   ],
   "source": [
    "array = cv2.cvtColor(predicts[11], cv2.COLOR_BGR2RGB)\n",
    "fig, ax = plt.subplots(figsize=(10, 5))\n",
    "ax.imshow(array, cmap=pyplot.cm.binary, vmin=0, vmax=1)\n",
    "plt.show()"
   ]
  },
  {
   "cell_type": "code",
   "execution_count": null,
   "metadata": {},
   "outputs": [],
   "source": []
  }
 ],
 "metadata": {
  "kernelspec": {
   "display_name": "Python 3",
   "language": "python",
   "name": "python3"
  },
  "language_info": {
   "codemirror_mode": {
    "name": "ipython",
    "version": 3
   },
   "file_extension": ".py",
   "mimetype": "text/x-python",
   "name": "python",
   "nbconvert_exporter": "python",
   "pygments_lexer": "ipython3",
   "version": "3.7.4"
  }
 },
 "nbformat": 4,
 "nbformat_minor": 2
}
