{
 "cells": [
  {
   "cell_type": "code",
   "execution_count": 1,
   "metadata": {},
   "outputs": [
    {
     "name": "stdout",
     "output_type": "stream",
     "text": [
      "./label/0486.png\n",
      "./label/0502.png\n",
      "./label/0488.png\n",
      "./label/0480.png\n",
      "./label/0499.png\n",
      "./label/0490.png\n",
      "./label/0500.png\n",
      "./label/0504.png\n",
      "./label/0498.png\n",
      "./label/0492.png\n",
      "./label/0482.png\n",
      "./label/0487.png\n",
      "./label/0493.png\n",
      "./label/0481.png\n",
      "./label/0497.png\n",
      "./label/0501.png\n",
      "./label/0491.png\n",
      "./label/0496.png\n",
      "./label/0489.png\n",
      "./label/0508.png\n",
      "./label/0506.png\n",
      "./label/0484.png\n",
      "./label/0483.png\n",
      "./label/0485.png\n",
      "./label/0509.png\n",
      "./label/0503.png\n",
      "./label/0494.png\n",
      "./label/0505.png\n",
      "./label/0507.png\n",
      "./label/0495.png\n",
      "./predict/11_predict.png\n",
      "./predict/20_predict.png\n",
      "./predict/12_predict.png\n",
      "./predict/1_predict.png\n",
      "./predict/22_predict.png\n",
      "./predict/26_predict.png\n",
      "./predict/4_predict.png\n",
      "./predict/5_predict.png\n",
      "./predict/27_predict.png\n",
      "./predict/9_predict.png\n",
      "./predict/29_predict.png\n",
      "./predict/21_predict.png\n",
      "./predict/13_predict.png\n",
      "./predict/25_predict.png\n",
      "./predict/18_predict.png\n",
      "./predict/19_predict.png\n",
      "./predict/14_predict.png\n",
      "./predict/17_predict.png\n",
      "./predict/8_predict.png\n",
      "./predict/0_predict.png\n",
      "./predict/10_predict.png\n",
      "./predict/23_predict.png\n",
      "./predict/16_predict.png\n",
      "./predict/7_predict.png\n",
      "./predict/28_predict.png\n",
      "./predict/24_predict.png\n",
      "./predict/2_predict.png\n",
      "./predict/15_predict.png\n",
      "./predict/3_predict.png\n",
      "./predict/6_predict.png\n"
     ]
    }
   ],
   "source": [
    "import cv2\n",
    "import os\n",
    "import glob\n",
    "\n",
    "img_dir = \"./label\" # Enter Directory of all images \n",
    "data_path = os.path.join(img_dir,'*g')\n",
    "files = glob.glob(data_path)\n",
    "labels = []\n",
    "for f1 in files:\n",
    "    print(f1)\n",
    "    img = cv2.imread(f1)\n",
    "    labels.append(img)\n",
    "    \n",
    "img_dir = \"./predict\" # Enter Directory of all images \n",
    "data_path = os.path.join(img_dir,'*g')\n",
    "files = glob.glob(data_path)\n",
    "predicts = []\n",
    "for f1 in files:\n",
    "    print(f1)\n",
    "    img = cv2.imread(f1)\n",
    "    predicts.append(img)"
   ]
  },
  {
   "cell_type": "code",
   "execution_count": 20,
   "metadata": {},
   "outputs": [
    {
     "name": "stdout",
     "output_type": "stream",
     "text": [
      "0.09716890203061442\n",
      "0.11860657032992117\n",
      "0.03775103479993868\n",
      "0.13179552193906055\n",
      "0.2041008142374059\n",
      "0.2373593490602775\n",
      "0.04010837543332426\n"
     ]
    }
   ],
   "source": [
    "import numpy as np\n",
    "\n",
    "scores = []\n",
    "for i in range(7):\n",
    "    target = labels[i]\n",
    "    prediction = predicts[i]\n",
    "    \n",
    "    intersection = np.logical_and(target, prediction)\n",
    "    union = np.logical_or(target, prediction)\n",
    "    iou_score = np.sum(intersection) / np.sum(union)\n",
    "    scores.append(iou_score)\n",
    "    print(iou_score)"
   ]
  },
  {
   "cell_type": "code",
   "execution_count": 22,
   "metadata": {},
   "outputs": [
    {
     "data": {
      "text/plain": [
       "0.1238415096900775"
      ]
     },
     "execution_count": 22,
     "metadata": {},
     "output_type": "execute_result"
    }
   ],
   "source": [
    "np.mean(scores)"
   ]
  },
  {
   "cell_type": "code",
   "execution_count": 23,
   "metadata": {
    "scrolled": true
   },
   "outputs": [],
   "source": [
    "from keras import backend as K\n",
    "def iou_coef(y_true, y_pred, smooth=1):\n",
    "  intersection = K.sum(K.abs(y_true * y_pred), axis=[1,2,3])\n",
    "  union = K.sum(y_true,[1,2,3])+K.sum(y_pred,[1,2,3])-intersection\n",
    "  iou = K.mean((intersection + smooth) / (union + smooth), axis=0)\n",
    "  return iou\n",
    "def dice_coef(y_true, y_pred, smooth=1):\n",
    "  intersection = K.sum(y_true * y_pred, axis=[1,2,3])\n",
    "  union = K.sum(y_true, axis=[1,2,3]) + K.sum(y_pred, axis=[1,2,3])\n",
    "  dice = K.mean((2. * intersection + smooth)/(union + smooth), axis=0)\n",
    "  return dice"
   ]
  },
  {
   "cell_type": "code",
   "execution_count": 26,
   "metadata": {},
   "outputs": [
    {
     "name": "stdout",
     "output_type": "stream",
     "text": [
      "Tensor(\"Mean_2:0\", shape=(), dtype=float16)\n"
     ]
    }
   ],
   "source": [
    "print(iou_coef(np.rint(np.array(labels)), np.rint(np.array(predicts)), smooth=1))"
   ]
  }
 ],
 "metadata": {
  "kernelspec": {
   "display_name": "Python 3",
   "language": "python",
   "name": "python3"
  },
  "language_info": {
   "codemirror_mode": {
    "name": "ipython",
    "version": 3
   },
   "file_extension": ".py",
   "mimetype": "text/x-python",
   "name": "python",
   "nbconvert_exporter": "python",
   "pygments_lexer": "ipython3",
   "version": "3.7.4"
  }
 },
 "nbformat": 4,
 "nbformat_minor": 2
}
